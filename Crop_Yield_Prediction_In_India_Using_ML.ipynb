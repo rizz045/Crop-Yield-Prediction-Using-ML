{
  "nbformat": 4,
  "nbformat_minor": 0,
  "metadata": {
    "colab": {
      "provenance": []
    },
    "kernelspec": {
      "name": "python3",
      "display_name": "Python 3"
    },
    "language_info": {
      "name": "python"
    }
  },
  "cells": [
    {
      "cell_type": "markdown",
      "source": [
        "**Column Details:**\n",
        "- **State_Name**: Name of the Indian state where the crop was grown.  \n",
        "- **District_Name**: Name of the district within the state.  \n",
        "- **Crop_Year**: Year in which the crop was cultivated.  \n",
        "- **Season**: Growing season of the crop (e.g., Kharif, Rabi, etc.).  \n",
        "- **Crop**: Name of the crop grown (e.g., rice, wheat, maize, etc.).  \n",
        "- **Area**: Total area (in hectares) under cultivation for the crop.  \n",
        "- **Production**: Total production (in metric tons) of the crop in that district/year.  \n"
      ],
      "metadata": {
        "id": "qyvH4YfZ1DNh"
      }
    },
    {
      "cell_type": "code",
      "execution_count": 1,
      "metadata": {
        "id": "hQG0fwu76UR8"
      },
      "outputs": [],
      "source": []
    },
    {
      "cell_type": "code",
      "source": [],
      "metadata": {
        "id": "BXLImxVttXoY"
      },
      "execution_count": null,
      "outputs": []
    }
  ]
}