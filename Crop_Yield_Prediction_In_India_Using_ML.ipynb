{
  "nbformat": 4,
  "nbformat_minor": 0,
  "metadata": {
    "colab": {
      "provenance": []
    },
    "kernelspec": {
      "name": "python3",
      "display_name": "Python 3"
    },
    "language_info": {
      "name": "python"
    }
  },
  "cells": [
    {
      "cell_type": "markdown",
      "source": [
        "**Column Details:**\n",
        "- **State_Name**: Name of the Indian state where the crop was grown.  \n",
        "- **District_Name**: Name of the district within the state.  \n",
        "- **Crop_Year**: Year in which the crop was cultivated.  \n",
        "- **Season**: Growing season of the crop (e.g., Kharif, Rabi, etc.).  \n",
        "- **Crop**: Name of the crop grown (e.g., rice, wheat, maize, etc.).  \n",
        "- **Area**: Total area (in hectares) under cultivation for the crop.  \n",
        "- **Production**: Total production (in metric tons) of the crop in that district/year.  \n"
      ],
      "metadata": {
        "id": "qyvH4YfZ1DNh"
      }
    },
    {
      "cell_type": "code",
      "execution_count": 1,
      "metadata": {
        "id": "hQG0fwu76UR8"
      },
      "outputs": [],
      "source": [
        "import numpy as np\n",
        "import pandas as pd\n",
        "import matplotlib.pyplot as plt\n",
        "import seaborn as sns"
      ]
    },
    {
      "cell_type": "code",
      "source": [
        "df = pd.read_csv(\"/content/crop_production.csv\")\n",
        "df.head()"
      ],
      "metadata": {
        "id": "BXLImxVttXoY",
        "colab": {
          "base_uri": "https://localhost:8080/",
          "height": 206
        },
        "outputId": "edc72c5b-bc02-438e-86d1-723cb9dc8dd4"
      },
      "execution_count": 2,
      "outputs": [
        {
          "output_type": "execute_result",
          "data": {
            "text/plain": [
              "                    State_Name District_Name  Crop_Year       Season  \\\n",
              "0  Andaman and Nicobar Islands      NICOBARS       2000  Kharif        \n",
              "1  Andaman and Nicobar Islands      NICOBARS       2000  Kharif        \n",
              "2  Andaman and Nicobar Islands      NICOBARS       2000  Kharif        \n",
              "3  Andaman and Nicobar Islands      NICOBARS       2000  Whole Year    \n",
              "4  Andaman and Nicobar Islands      NICOBARS       2000  Whole Year    \n",
              "\n",
              "                  Crop    Area  Production  \n",
              "0             Arecanut  1254.0      2000.0  \n",
              "1  Other Kharif pulses     2.0         1.0  \n",
              "2                 Rice   102.0       321.0  \n",
              "3               Banana   176.0       641.0  \n",
              "4            Cashewnut   720.0       165.0  "
            ],
            "text/html": [
              "\n",
              "  <div id=\"df-6b289597-92af-4fe2-afb2-b90197cdbdf3\" class=\"colab-df-container\">\n",
              "    <div>\n",
              "<style scoped>\n",
              "    .dataframe tbody tr th:only-of-type {\n",
              "        vertical-align: middle;\n",
              "    }\n",
              "\n",
              "    .dataframe tbody tr th {\n",
              "        vertical-align: top;\n",
              "    }\n",
              "\n",
              "    .dataframe thead th {\n",
              "        text-align: right;\n",
              "    }\n",
              "</style>\n",
              "<table border=\"1\" class=\"dataframe\">\n",
              "  <thead>\n",
              "    <tr style=\"text-align: right;\">\n",
              "      <th></th>\n",
              "      <th>State_Name</th>\n",
              "      <th>District_Name</th>\n",
              "      <th>Crop_Year</th>\n",
              "      <th>Season</th>\n",
              "      <th>Crop</th>\n",
              "      <th>Area</th>\n",
              "      <th>Production</th>\n",
              "    </tr>\n",
              "  </thead>\n",
              "  <tbody>\n",
              "    <tr>\n",
              "      <th>0</th>\n",
              "      <td>Andaman and Nicobar Islands</td>\n",
              "      <td>NICOBARS</td>\n",
              "      <td>2000</td>\n",
              "      <td>Kharif</td>\n",
              "      <td>Arecanut</td>\n",
              "      <td>1254.0</td>\n",
              "      <td>2000.0</td>\n",
              "    </tr>\n",
              "    <tr>\n",
              "      <th>1</th>\n",
              "      <td>Andaman and Nicobar Islands</td>\n",
              "      <td>NICOBARS</td>\n",
              "      <td>2000</td>\n",
              "      <td>Kharif</td>\n",
              "      <td>Other Kharif pulses</td>\n",
              "      <td>2.0</td>\n",
              "      <td>1.0</td>\n",
              "    </tr>\n",
              "    <tr>\n",
              "      <th>2</th>\n",
              "      <td>Andaman and Nicobar Islands</td>\n",
              "      <td>NICOBARS</td>\n",
              "      <td>2000</td>\n",
              "      <td>Kharif</td>\n",
              "      <td>Rice</td>\n",
              "      <td>102.0</td>\n",
              "      <td>321.0</td>\n",
              "    </tr>\n",
              "    <tr>\n",
              "      <th>3</th>\n",
              "      <td>Andaman and Nicobar Islands</td>\n",
              "      <td>NICOBARS</td>\n",
              "      <td>2000</td>\n",
              "      <td>Whole Year</td>\n",
              "      <td>Banana</td>\n",
              "      <td>176.0</td>\n",
              "      <td>641.0</td>\n",
              "    </tr>\n",
              "    <tr>\n",
              "      <th>4</th>\n",
              "      <td>Andaman and Nicobar Islands</td>\n",
              "      <td>NICOBARS</td>\n",
              "      <td>2000</td>\n",
              "      <td>Whole Year</td>\n",
              "      <td>Cashewnut</td>\n",
              "      <td>720.0</td>\n",
              "      <td>165.0</td>\n",
              "    </tr>\n",
              "  </tbody>\n",
              "</table>\n",
              "</div>\n",
              "    <div class=\"colab-df-buttons\">\n",
              "\n",
              "  <div class=\"colab-df-container\">\n",
              "    <button class=\"colab-df-convert\" onclick=\"convertToInteractive('df-6b289597-92af-4fe2-afb2-b90197cdbdf3')\"\n",
              "            title=\"Convert this dataframe to an interactive table.\"\n",
              "            style=\"display:none;\">\n",
              "\n",
              "  <svg xmlns=\"http://www.w3.org/2000/svg\" height=\"24px\" viewBox=\"0 -960 960 960\">\n",
              "    <path d=\"M120-120v-720h720v720H120Zm60-500h600v-160H180v160Zm220 220h160v-160H400v160Zm0 220h160v-160H400v160ZM180-400h160v-160H180v160Zm440 0h160v-160H620v160ZM180-180h160v-160H180v160Zm440 0h160v-160H620v160Z\"/>\n",
              "  </svg>\n",
              "    </button>\n",
              "\n",
              "  <style>\n",
              "    .colab-df-container {\n",
              "      display:flex;\n",
              "      gap: 12px;\n",
              "    }\n",
              "\n",
              "    .colab-df-convert {\n",
              "      background-color: #E8F0FE;\n",
              "      border: none;\n",
              "      border-radius: 50%;\n",
              "      cursor: pointer;\n",
              "      display: none;\n",
              "      fill: #1967D2;\n",
              "      height: 32px;\n",
              "      padding: 0 0 0 0;\n",
              "      width: 32px;\n",
              "    }\n",
              "\n",
              "    .colab-df-convert:hover {\n",
              "      background-color: #E2EBFA;\n",
              "      box-shadow: 0px 1px 2px rgba(60, 64, 67, 0.3), 0px 1px 3px 1px rgba(60, 64, 67, 0.15);\n",
              "      fill: #174EA6;\n",
              "    }\n",
              "\n",
              "    .colab-df-buttons div {\n",
              "      margin-bottom: 4px;\n",
              "    }\n",
              "\n",
              "    [theme=dark] .colab-df-convert {\n",
              "      background-color: #3B4455;\n",
              "      fill: #D2E3FC;\n",
              "    }\n",
              "\n",
              "    [theme=dark] .colab-df-convert:hover {\n",
              "      background-color: #434B5C;\n",
              "      box-shadow: 0px 1px 3px 1px rgba(0, 0, 0, 0.15);\n",
              "      filter: drop-shadow(0px 1px 2px rgba(0, 0, 0, 0.3));\n",
              "      fill: #FFFFFF;\n",
              "    }\n",
              "  </style>\n",
              "\n",
              "    <script>\n",
              "      const buttonEl =\n",
              "        document.querySelector('#df-6b289597-92af-4fe2-afb2-b90197cdbdf3 button.colab-df-convert');\n",
              "      buttonEl.style.display =\n",
              "        google.colab.kernel.accessAllowed ? 'block' : 'none';\n",
              "\n",
              "      async function convertToInteractive(key) {\n",
              "        const element = document.querySelector('#df-6b289597-92af-4fe2-afb2-b90197cdbdf3');\n",
              "        const dataTable =\n",
              "          await google.colab.kernel.invokeFunction('convertToInteractive',\n",
              "                                                    [key], {});\n",
              "        if (!dataTable) return;\n",
              "\n",
              "        const docLinkHtml = 'Like what you see? Visit the ' +\n",
              "          '<a target=\"_blank\" href=https://colab.research.google.com/notebooks/data_table.ipynb>data table notebook</a>'\n",
              "          + ' to learn more about interactive tables.';\n",
              "        element.innerHTML = '';\n",
              "        dataTable['output_type'] = 'display_data';\n",
              "        await google.colab.output.renderOutput(dataTable, element);\n",
              "        const docLink = document.createElement('div');\n",
              "        docLink.innerHTML = docLinkHtml;\n",
              "        element.appendChild(docLink);\n",
              "      }\n",
              "    </script>\n",
              "  </div>\n",
              "\n",
              "\n",
              "<div id=\"df-d67108d9-afc2-45b4-964f-0cb138cb8dad\">\n",
              "  <button class=\"colab-df-quickchart\" onclick=\"quickchart('df-d67108d9-afc2-45b4-964f-0cb138cb8dad')\"\n",
              "            title=\"Suggest charts\"\n",
              "            style=\"display:none;\">\n",
              "\n",
              "<svg xmlns=\"http://www.w3.org/2000/svg\" height=\"24px\"viewBox=\"0 0 24 24\"\n",
              "     width=\"24px\">\n",
              "    <g>\n",
              "        <path d=\"M19 3H5c-1.1 0-2 .9-2 2v14c0 1.1.9 2 2 2h14c1.1 0 2-.9 2-2V5c0-1.1-.9-2-2-2zM9 17H7v-7h2v7zm4 0h-2V7h2v10zm4 0h-2v-4h2v4z\"/>\n",
              "    </g>\n",
              "</svg>\n",
              "  </button>\n",
              "\n",
              "<style>\n",
              "  .colab-df-quickchart {\n",
              "      --bg-color: #E8F0FE;\n",
              "      --fill-color: #1967D2;\n",
              "      --hover-bg-color: #E2EBFA;\n",
              "      --hover-fill-color: #174EA6;\n",
              "      --disabled-fill-color: #AAA;\n",
              "      --disabled-bg-color: #DDD;\n",
              "  }\n",
              "\n",
              "  [theme=dark] .colab-df-quickchart {\n",
              "      --bg-color: #3B4455;\n",
              "      --fill-color: #D2E3FC;\n",
              "      --hover-bg-color: #434B5C;\n",
              "      --hover-fill-color: #FFFFFF;\n",
              "      --disabled-bg-color: #3B4455;\n",
              "      --disabled-fill-color: #666;\n",
              "  }\n",
              "\n",
              "  .colab-df-quickchart {\n",
              "    background-color: var(--bg-color);\n",
              "    border: none;\n",
              "    border-radius: 50%;\n",
              "    cursor: pointer;\n",
              "    display: none;\n",
              "    fill: var(--fill-color);\n",
              "    height: 32px;\n",
              "    padding: 0;\n",
              "    width: 32px;\n",
              "  }\n",
              "\n",
              "  .colab-df-quickchart:hover {\n",
              "    background-color: var(--hover-bg-color);\n",
              "    box-shadow: 0 1px 2px rgba(60, 64, 67, 0.3), 0 1px 3px 1px rgba(60, 64, 67, 0.15);\n",
              "    fill: var(--button-hover-fill-color);\n",
              "  }\n",
              "\n",
              "  .colab-df-quickchart-complete:disabled,\n",
              "  .colab-df-quickchart-complete:disabled:hover {\n",
              "    background-color: var(--disabled-bg-color);\n",
              "    fill: var(--disabled-fill-color);\n",
              "    box-shadow: none;\n",
              "  }\n",
              "\n",
              "  .colab-df-spinner {\n",
              "    border: 2px solid var(--fill-color);\n",
              "    border-color: transparent;\n",
              "    border-bottom-color: var(--fill-color);\n",
              "    animation:\n",
              "      spin 1s steps(1) infinite;\n",
              "  }\n",
              "\n",
              "  @keyframes spin {\n",
              "    0% {\n",
              "      border-color: transparent;\n",
              "      border-bottom-color: var(--fill-color);\n",
              "      border-left-color: var(--fill-color);\n",
              "    }\n",
              "    20% {\n",
              "      border-color: transparent;\n",
              "      border-left-color: var(--fill-color);\n",
              "      border-top-color: var(--fill-color);\n",
              "    }\n",
              "    30% {\n",
              "      border-color: transparent;\n",
              "      border-left-color: var(--fill-color);\n",
              "      border-top-color: var(--fill-color);\n",
              "      border-right-color: var(--fill-color);\n",
              "    }\n",
              "    40% {\n",
              "      border-color: transparent;\n",
              "      border-right-color: var(--fill-color);\n",
              "      border-top-color: var(--fill-color);\n",
              "    }\n",
              "    60% {\n",
              "      border-color: transparent;\n",
              "      border-right-color: var(--fill-color);\n",
              "    }\n",
              "    80% {\n",
              "      border-color: transparent;\n",
              "      border-right-color: var(--fill-color);\n",
              "      border-bottom-color: var(--fill-color);\n",
              "    }\n",
              "    90% {\n",
              "      border-color: transparent;\n",
              "      border-bottom-color: var(--fill-color);\n",
              "    }\n",
              "  }\n",
              "</style>\n",
              "\n",
              "  <script>\n",
              "    async function quickchart(key) {\n",
              "      const quickchartButtonEl =\n",
              "        document.querySelector('#' + key + ' button');\n",
              "      quickchartButtonEl.disabled = true;  // To prevent multiple clicks.\n",
              "      quickchartButtonEl.classList.add('colab-df-spinner');\n",
              "      try {\n",
              "        const charts = await google.colab.kernel.invokeFunction(\n",
              "            'suggestCharts', [key], {});\n",
              "      } catch (error) {\n",
              "        console.error('Error during call to suggestCharts:', error);\n",
              "      }\n",
              "      quickchartButtonEl.classList.remove('colab-df-spinner');\n",
              "      quickchartButtonEl.classList.add('colab-df-quickchart-complete');\n",
              "    }\n",
              "    (() => {\n",
              "      let quickchartButtonEl =\n",
              "        document.querySelector('#df-d67108d9-afc2-45b4-964f-0cb138cb8dad button');\n",
              "      quickchartButtonEl.style.display =\n",
              "        google.colab.kernel.accessAllowed ? 'block' : 'none';\n",
              "    })();\n",
              "  </script>\n",
              "</div>\n",
              "\n",
              "    </div>\n",
              "  </div>\n"
            ],
            "application/vnd.google.colaboratory.intrinsic+json": {
              "type": "dataframe",
              "variable_name": "df"
            }
          },
          "metadata": {},
          "execution_count": 2
        }
      ]
    },
    {
      "cell_type": "code",
      "source": [
        "df.shape"
      ],
      "metadata": {
        "colab": {
          "base_uri": "https://localhost:8080/"
        },
        "id": "MdyRZwk64Ka4",
        "outputId": "2969ce00-191c-4acc-a187-26d867be2e8b"
      },
      "execution_count": 3,
      "outputs": [
        {
          "output_type": "execute_result",
          "data": {
            "text/plain": [
              "(246091, 7)"
            ]
          },
          "metadata": {},
          "execution_count": 3
        }
      ]
    },
    {
      "cell_type": "code",
      "source": [
        "df.columns"
      ],
      "metadata": {
        "colab": {
          "base_uri": "https://localhost:8080/"
        },
        "id": "VYZfDeUJ4GmP",
        "outputId": "877a9cbe-4c05-48f8-b1fa-4bcc8fe5e95a"
      },
      "execution_count": 4,
      "outputs": [
        {
          "output_type": "execute_result",
          "data": {
            "text/plain": [
              "Index(['State_Name', 'District_Name', 'Crop_Year', 'Season', 'Crop', 'Area',\n",
              "       'Production'],\n",
              "      dtype='object')"
            ]
          },
          "metadata": {},
          "execution_count": 4
        }
      ]
    },
    {
      "cell_type": "code",
      "source": [
        "df.isnull().sum()"
      ],
      "metadata": {
        "colab": {
          "base_uri": "https://localhost:8080/",
          "height": 303
        },
        "id": "EkqUNRHl4Nra",
        "outputId": "d6ce64e8-25e7-42ff-8f53-9ee1babbc3aa"
      },
      "execution_count": 5,
      "outputs": [
        {
          "output_type": "execute_result",
          "data": {
            "text/plain": [
              "State_Name          0\n",
              "District_Name       0\n",
              "Crop_Year           0\n",
              "Season              0\n",
              "Crop                0\n",
              "Area                0\n",
              "Production       3730\n",
              "dtype: int64"
            ],
            "text/html": [
              "<div>\n",
              "<style scoped>\n",
              "    .dataframe tbody tr th:only-of-type {\n",
              "        vertical-align: middle;\n",
              "    }\n",
              "\n",
              "    .dataframe tbody tr th {\n",
              "        vertical-align: top;\n",
              "    }\n",
              "\n",
              "    .dataframe thead th {\n",
              "        text-align: right;\n",
              "    }\n",
              "</style>\n",
              "<table border=\"1\" class=\"dataframe\">\n",
              "  <thead>\n",
              "    <tr style=\"text-align: right;\">\n",
              "      <th></th>\n",
              "      <th>0</th>\n",
              "    </tr>\n",
              "  </thead>\n",
              "  <tbody>\n",
              "    <tr>\n",
              "      <th>State_Name</th>\n",
              "      <td>0</td>\n",
              "    </tr>\n",
              "    <tr>\n",
              "      <th>District_Name</th>\n",
              "      <td>0</td>\n",
              "    </tr>\n",
              "    <tr>\n",
              "      <th>Crop_Year</th>\n",
              "      <td>0</td>\n",
              "    </tr>\n",
              "    <tr>\n",
              "      <th>Season</th>\n",
              "      <td>0</td>\n",
              "    </tr>\n",
              "    <tr>\n",
              "      <th>Crop</th>\n",
              "      <td>0</td>\n",
              "    </tr>\n",
              "    <tr>\n",
              "      <th>Area</th>\n",
              "      <td>0</td>\n",
              "    </tr>\n",
              "    <tr>\n",
              "      <th>Production</th>\n",
              "      <td>3730</td>\n",
              "    </tr>\n",
              "  </tbody>\n",
              "</table>\n",
              "</div><br><label><b>dtype:</b> int64</label>"
            ]
          },
          "metadata": {},
          "execution_count": 5
        }
      ]
    },
    {
      "cell_type": "markdown",
      "source": [
        "Since it is difficult to predict the null values for production class we'll drop those rows."
      ],
      "metadata": {
        "id": "tNT9_Tmz4iXQ"
      }
    },
    {
      "cell_type": "code",
      "source": [
        "print(df.shape)\n",
        "df = df.dropna(axis=0)\n",
        "print(df.shape)"
      ],
      "metadata": {
        "colab": {
          "base_uri": "https://localhost:8080/"
        },
        "id": "QBpEnl_U6_7u",
        "outputId": "41551a50-f8b7-4ec0-fea3-4c93a5705302"
      },
      "execution_count": 6,
      "outputs": [
        {
          "output_type": "stream",
          "name": "stdout",
          "text": [
            "(246091, 7)\n",
            "(242361, 7)\n"
          ]
        }
      ]
    },
    {
      "cell_type": "code",
      "source": [
        "df.info()"
      ],
      "metadata": {
        "colab": {
          "base_uri": "https://localhost:8080/"
        },
        "id": "DDrM0JHG4Vg-",
        "outputId": "7ac705ce-7cb6-477a-ff19-d90dd3f3baf4"
      },
      "execution_count": 7,
      "outputs": [
        {
          "output_type": "stream",
          "name": "stdout",
          "text": [
            "<class 'pandas.core.frame.DataFrame'>\n",
            "Index: 242361 entries, 0 to 246090\n",
            "Data columns (total 7 columns):\n",
            " #   Column         Non-Null Count   Dtype  \n",
            "---  ------         --------------   -----  \n",
            " 0   State_Name     242361 non-null  object \n",
            " 1   District_Name  242361 non-null  object \n",
            " 2   Crop_Year      242361 non-null  int64  \n",
            " 3   Season         242361 non-null  object \n",
            " 4   Crop           242361 non-null  object \n",
            " 5   Area           242361 non-null  float64\n",
            " 6   Production     242361 non-null  float64\n",
            "dtypes: float64(2), int64(1), object(4)\n",
            "memory usage: 14.8+ MB\n"
          ]
        }
      ]
    },
    {
      "cell_type": "code",
      "source": [
        "# Let's separate all the numerical and categorical columns\n",
        "col = (df.dtypes == object)\n",
        "obj_cols = (col[col] == True).index\n",
        "\n",
        "col = (df.dtypes != object)\n",
        "num_cols = (col[col] == True).index\n",
        "\n",
        "obj_cols, num_cols"
      ],
      "metadata": {
        "colab": {
          "base_uri": "https://localhost:8080/"
        },
        "id": "69Jj60De4zk7",
        "outputId": "6551fcf8-8779-4b0c-f3a9-220de1990228"
      },
      "execution_count": 8,
      "outputs": [
        {
          "output_type": "execute_result",
          "data": {
            "text/plain": [
              "(Index(['State_Name', 'District_Name', 'Season', 'Crop'], dtype='object'),\n",
              " Index(['Crop_Year', 'Area', 'Production'], dtype='object'))"
            ]
          },
          "metadata": {},
          "execution_count": 8
        }
      ]
    },
    {
      "cell_type": "code",
      "source": [
        "# Let's check for any inconsistency in object columns along with it's unique values\n",
        "for col in df.columns:\n",
        "    if df[col].dtype == object:\n",
        "        print(col)\n",
        "        print(df[col].unique(),\"\\n\")"
      ],
      "metadata": {
        "colab": {
          "base_uri": "https://localhost:8080/"
        },
        "id": "2JrKFXcV5UAg",
        "outputId": "a33e12c3-8504-4059-d862-4360e5c0a5c8"
      },
      "execution_count": 9,
      "outputs": [
        {
          "output_type": "stream",
          "name": "stdout",
          "text": [
            "State_Name\n",
            "['Andaman and Nicobar Islands' 'Andhra Pradesh' 'Arunachal Pradesh'\n",
            " 'Assam' 'Bihar' 'Chandigarh' 'Chhattisgarh' 'Dadra and Nagar Haveli'\n",
            " 'Goa' 'Gujarat' 'Haryana' 'Himachal Pradesh' 'Jammu and Kashmir '\n",
            " 'Jharkhand' 'Karnataka' 'Kerala' 'Madhya Pradesh' 'Maharashtra' 'Manipur'\n",
            " 'Meghalaya' 'Mizoram' 'Nagaland' 'Odisha' 'Puducherry' 'Punjab'\n",
            " 'Rajasthan' 'Sikkim' 'Tamil Nadu' 'Telangana ' 'Tripura' 'Uttar Pradesh'\n",
            " 'Uttarakhand' 'West Bengal'] \n",
            "\n",
            "District_Name\n",
            "['NICOBARS' 'NORTH AND MIDDLE ANDAMAN' 'SOUTH ANDAMANS' 'ANANTAPUR'\n",
            " 'CHITTOOR' 'EAST GODAVARI' 'GUNTUR' 'KADAPA' 'KRISHNA' 'KURNOOL'\n",
            " 'PRAKASAM' 'SPSR NELLORE' 'SRIKAKULAM' 'VISAKHAPATANAM' 'VIZIANAGARAM'\n",
            " 'WEST GODAVARI' 'ANJAW' 'CHANGLANG' 'DIBANG VALLEY' 'EAST KAMENG'\n",
            " 'EAST SIANG' 'KURUNG KUMEY' 'LOHIT' 'LONGDING' 'LOWER DIBANG VALLEY'\n",
            " 'LOWER SUBANSIRI' 'NAMSAI' 'PAPUM PARE' 'TAWANG' 'TIRAP' 'UPPER SIANG'\n",
            " 'UPPER SUBANSIRI' 'WEST KAMENG' 'WEST SIANG' 'BAKSA' 'BARPETA'\n",
            " 'BONGAIGAON' 'CACHAR' 'CHIRANG' 'DARRANG' 'DHEMAJI' 'DHUBRI' 'DIBRUGARH'\n",
            " 'DIMA HASAO' 'GOALPARA' 'GOLAGHAT' 'HAILAKANDI' 'JORHAT' 'KAMRUP'\n",
            " 'KAMRUP METRO' 'KARBI ANGLONG' 'KARIMGANJ' 'KOKRAJHAR' 'LAKHIMPUR'\n",
            " 'MARIGAON' 'NAGAON' 'NALBARI' 'SIVASAGAR' 'SONITPUR' 'TINSUKIA'\n",
            " 'UDALGURI' 'ARARIA' 'ARWAL' 'AURANGABAD' 'BANKA' 'BEGUSARAI' 'BHAGALPUR'\n",
            " 'BHOJPUR' 'BUXAR' 'DARBHANGA' 'GAYA' 'GOPALGANJ' 'JAMUI' 'JEHANABAD'\n",
            " 'KAIMUR (BHABUA)' 'KATIHAR' 'KHAGARIA' 'KISHANGANJ' 'LAKHISARAI'\n",
            " 'MADHEPURA' 'MADHUBANI' 'MUNGER' 'MUZAFFARPUR' 'NALANDA' 'NAWADA'\n",
            " 'PASHCHIM CHAMPARAN' 'PATNA' 'PURBI CHAMPARAN' 'PURNIA' 'ROHTAS'\n",
            " 'SAHARSA' 'SAMASTIPUR' 'SARAN' 'SHEIKHPURA' 'SHEOHAR' 'SITAMARHI' 'SIWAN'\n",
            " 'SUPAUL' 'VAISHALI' 'CHANDIGARH' 'BALOD' 'BALODA BAZAR' 'BALRAMPUR'\n",
            " 'BASTAR' 'BEMETARA' 'BIJAPUR' 'BILASPUR' 'DANTEWADA' 'DHAMTARI' 'DURG'\n",
            " 'GARIYABAND' 'JANJGIR-CHAMPA' 'JASHPUR' 'KABIRDHAM' 'KANKER' 'KONDAGAON'\n",
            " 'KORBA' 'KOREA' 'MAHASAMUND' 'MUNGELI' 'NARAYANPUR' 'RAIGARH' 'RAIPUR'\n",
            " 'RAJNANDGAON' 'SUKMA' 'SURAJPUR' 'SURGUJA' 'DADRA AND NAGAR HAVELI'\n",
            " 'NORTH GOA' 'SOUTH GOA' 'AHMADABAD' 'AMRELI' 'ANAND' 'BANAS KANTHA'\n",
            " 'BHARUCH' 'BHAVNAGAR' 'DANG' 'DOHAD' 'GANDHINAGAR' 'JAMNAGAR' 'JUNAGADH'\n",
            " 'KACHCHH' 'KHEDA' 'MAHESANA' 'NARMADA' 'NAVSARI' 'PANCH MAHALS' 'PATAN'\n",
            " 'PORBANDAR' 'RAJKOT' 'SABAR KANTHA' 'SURAT' 'SURENDRANAGAR' 'TAPI'\n",
            " 'VADODARA' 'VALSAD' 'AMBALA' 'BHIWANI' 'FARIDABAD' 'FATEHABAD' 'GURGAON'\n",
            " 'HISAR' 'JHAJJAR' 'JIND' 'KAITHAL' 'KARNAL' 'KURUKSHETRA' 'MAHENDRAGARH'\n",
            " 'MEWAT' 'PALWAL' 'PANCHKULA' 'PANIPAT' 'REWARI' 'ROHTAK' 'SIRSA'\n",
            " 'SONIPAT' 'YAMUNANAGAR' 'CHAMBA' 'HAMIRPUR' 'KANGRA' 'KINNAUR' 'KULLU'\n",
            " 'LAHUL AND SPITI' 'MANDI' 'SHIMLA' 'SIRMAUR' 'SOLAN' 'UNA' 'ANANTNAG'\n",
            " 'BADGAM' 'BANDIPORA' 'BARAMULLA' 'DODA' 'GANDERBAL' 'JAMMU' 'KARGIL'\n",
            " 'KATHUA' 'KISHTWAR' 'KULGAM' 'KUPWARA' 'LEH LADAKH' 'POONCH' 'PULWAMA'\n",
            " 'RAJAURI' 'RAMBAN' 'REASI' 'SAMBA' 'SHOPIAN' 'SRINAGAR' 'UDHAMPUR'\n",
            " 'BOKARO' 'CHATRA' 'DEOGHAR' 'DHANBAD' 'DUMKA' 'EAST SINGHBUM' 'GARHWA'\n",
            " 'GIRIDIH' 'GODDA' 'GUMLA' 'HAZARIBAGH' 'JAMTARA' 'KHUNTI' 'KODERMA'\n",
            " 'LATEHAR' 'LOHARDAGA' 'PAKUR' 'PALAMU' 'RAMGARH' 'RANCHI' 'SAHEBGANJ'\n",
            " 'SARAIKELA KHARSAWAN' 'SIMDEGA' 'WEST SINGHBHUM' 'BAGALKOT'\n",
            " 'BANGALORE RURAL' 'BELGAUM' 'BELLARY' 'BENGALURU URBAN' 'BIDAR'\n",
            " 'CHAMARAJANAGAR' 'CHIKBALLAPUR' 'CHIKMAGALUR' 'CHITRADURGA'\n",
            " 'DAKSHIN KANNAD' 'DAVANGERE' 'DHARWAD' 'GADAG' 'GULBARGA' 'HASSAN'\n",
            " 'HAVERI' 'KODAGU' 'KOLAR' 'KOPPAL' 'MANDYA' 'MYSORE' 'RAICHUR'\n",
            " 'RAMANAGARA' 'SHIMOGA' 'TUMKUR' 'UDUPI' 'UTTAR KANNAD' 'YADGIR'\n",
            " 'ALAPPUZHA' 'ERNAKULAM' 'IDUKKI' 'KANNUR' 'KASARAGOD' 'KOLLAM' 'KOTTAYAM'\n",
            " 'KOZHIKODE' 'MALAPPURAM' 'PALAKKAD' 'PATHANAMTHITTA' 'THIRUVANANTHAPURAM'\n",
            " 'THRISSUR' 'WAYANAD' 'AGAR MALWA' 'ALIRAJPUR' 'ANUPPUR' 'ASHOKNAGAR'\n",
            " 'BALAGHAT' 'BARWANI' 'BETUL' 'BHIND' 'BHOPAL' 'BURHANPUR' 'CHHATARPUR'\n",
            " 'CHHINDWARA' 'DAMOH' 'DATIA' 'DEWAS' 'DHAR' 'DINDORI' 'GUNA' 'GWALIOR'\n",
            " 'HARDA' 'HOSHANGABAD' 'INDORE' 'JABALPUR' 'JHABUA' 'KATNI' 'KHANDWA'\n",
            " 'KHARGONE' 'MANDLA' 'MANDSAUR' 'MORENA' 'NARSINGHPUR' 'NEEMUCH' 'PANNA'\n",
            " 'RAISEN' 'RAJGARH' 'RATLAM' 'REWA' 'SAGAR' 'SATNA' 'SEHORE' 'SEONI'\n",
            " 'SHAHDOL' 'SHAJAPUR' 'SHEOPUR' 'SHIVPURI' 'SIDHI' 'SINGRAULI' 'TIKAMGARH'\n",
            " 'UJJAIN' 'UMARIA' 'VIDISHA' 'AHMEDNAGAR' 'AKOLA' 'AMRAVATI' 'BEED'\n",
            " 'BHANDARA' 'BULDHANA' 'CHANDRAPUR' 'DHULE' 'GADCHIROLI' 'GONDIA'\n",
            " 'HINGOLI' 'JALGAON' 'JALNA' 'KOLHAPUR' 'LATUR' 'MUMBAI' 'NAGPUR' 'NANDED'\n",
            " 'NANDURBAR' 'NASHIK' 'OSMANABAD' 'PALGHAR' 'PARBHANI' 'PUNE' 'RAIGAD'\n",
            " 'RATNAGIRI' 'SANGLI' 'SATARA' 'SINDHUDURG' 'SOLAPUR' 'THANE' 'WARDHA'\n",
            " 'WASHIM' 'YAVATMAL' 'BISHNUPUR' 'CHANDEL' 'CHURACHANDPUR' 'IMPHAL EAST'\n",
            " 'IMPHAL WEST' 'SENAPATI' 'TAMENGLONG' 'THOUBAL' 'UKHRUL'\n",
            " 'EAST GARO HILLS' 'EAST JAINTIA HILLS' 'EAST KHASI HILLS'\n",
            " 'NORTH GARO HILLS' 'RI BHOI' 'SOUTH GARO HILLS' 'SOUTH WEST GARO HILLS'\n",
            " 'SOUTH WEST KHASI HILLS' 'WEST GARO HILLS' 'WEST JAINTIA HILLS'\n",
            " 'WEST KHASI HILLS' 'AIZAWL' 'CHAMPHAI' 'KOLASIB' 'LAWNGTLAI' 'LUNGLEI'\n",
            " 'MAMIT' 'SAIHA' 'SERCHHIP' 'DIMAPUR' 'KIPHIRE' 'KOHIMA' 'LONGLENG'\n",
            " 'MOKOKCHUNG' 'MON' 'PEREN' 'PHEK' 'TUENSANG' 'WOKHA' 'ZUNHEBOTO' 'ANUGUL'\n",
            " 'BALANGIR' 'BALESHWAR' 'BARGARH' 'BHADRAK' 'BOUDH' 'CUTTACK' 'DEOGARH'\n",
            " 'DHENKANAL' 'GAJAPATI' 'GANJAM' 'JAGATSINGHAPUR' 'JAJAPUR' 'JHARSUGUDA'\n",
            " 'KALAHANDI' 'KANDHAMAL' 'KENDRAPARA' 'KENDUJHAR' 'KHORDHA' 'KORAPUT'\n",
            " 'MALKANGIRI' 'MAYURBHANJ' 'NABARANGPUR' 'NAYAGARH' 'NUAPADA' 'PURI'\n",
            " 'RAYAGADA' 'SAMBALPUR' 'SONEPUR' 'SUNDARGARH' 'KARAIKAL' 'MAHE'\n",
            " 'PONDICHERRY' 'YANAM' 'AMRITSAR' 'BARNALA' 'BATHINDA' 'FARIDKOT'\n",
            " 'FATEHGARH SAHIB' 'FAZILKA' 'FIROZEPUR' 'GURDASPUR' 'HOSHIARPUR'\n",
            " 'JALANDHAR' 'KAPURTHALA' 'LUDHIANA' 'MANSA' 'MOGA' 'MUKTSAR' 'NAWANSHAHR'\n",
            " 'PATHANKOT' 'PATIALA' 'RUPNAGAR' 'S.A.S NAGAR' 'SANGRUR' 'TARN TARAN'\n",
            " 'AJMER' 'ALWAR' 'BANSWARA' 'BARAN' 'BARMER' 'BHARATPUR' 'BHILWARA'\n",
            " 'BIKANER' 'BUNDI' 'CHITTORGARH' 'CHURU' 'DAUSA' 'DHOLPUR' 'DUNGARPUR'\n",
            " 'GANGANAGAR' 'HANUMANGARH' 'JAIPUR' 'JAISALMER' 'JALORE' 'JHALAWAR'\n",
            " 'JHUNJHUNU' 'JODHPUR' 'KARAULI' 'KOTA' 'NAGAUR' 'PALI' 'PRATAPGARH'\n",
            " 'RAJSAMAND' 'SAWAI MADHOPUR' 'SIKAR' 'SIROHI' 'TONK' 'UDAIPUR'\n",
            " 'EAST DISTRICT' 'NORTH DISTRICT' 'SOUTH DISTRICT' 'WEST DISTRICT'\n",
            " 'ARIYALUR' 'COIMBATORE' 'CUDDALORE' 'DHARMAPURI' 'DINDIGUL' 'ERODE'\n",
            " 'KANCHIPURAM' 'KANNIYAKUMARI' 'KARUR' 'KRISHNAGIRI' 'MADURAI'\n",
            " 'NAGAPATTINAM' 'NAMAKKAL' 'PERAMBALUR' 'PUDUKKOTTAI' 'RAMANATHAPURAM'\n",
            " 'SALEM' 'SIVAGANGA' 'THANJAVUR' 'THE NILGIRIS' 'THENI' 'THIRUVALLUR'\n",
            " 'THIRUVARUR' 'TIRUCHIRAPPALLI' 'TIRUNELVELI' 'TIRUPPUR' 'TIRUVANNAMALAI'\n",
            " 'TUTICORIN' 'VELLORE' 'VILLUPURAM' 'VIRUDHUNAGAR' 'ADILABAD' 'HYDERABAD'\n",
            " 'KARIMNAGAR' 'KHAMMAM' 'MAHBUBNAGAR' 'MEDAK' 'NALGONDA' 'NIZAMABAD'\n",
            " 'RANGAREDDI' 'WARANGAL' 'DHALAI' 'GOMATI' 'KHOWAI' 'NORTH TRIPURA'\n",
            " 'SEPAHIJALA' 'SOUTH TRIPURA' 'UNAKOTI' 'WEST TRIPURA' 'AGRA' 'ALIGARH'\n",
            " 'ALLAHABAD' 'AMBEDKAR NAGAR' 'AMETHI' 'AMROHA' 'AURAIYA' 'AZAMGARH'\n",
            " 'BAGHPAT' 'BAHRAICH' 'BALLIA' 'BANDA' 'BARABANKI' 'BAREILLY' 'BASTI'\n",
            " 'BIJNOR' 'BUDAUN' 'BULANDSHAHR' 'CHANDAULI' 'CHITRAKOOT' 'DEORIA' 'ETAH'\n",
            " 'ETAWAH' 'FAIZABAD' 'FARRUKHABAD' 'FATEHPUR' 'FIROZABAD'\n",
            " 'GAUTAM BUDDHA NAGAR' 'GHAZIABAD' 'GHAZIPUR' 'GONDA' 'GORAKHPUR' 'HAPUR'\n",
            " 'HARDOI' 'HATHRAS' 'JALAUN' 'JAUNPUR' 'JHANSI' 'KANNAUJ' 'KANPUR DEHAT'\n",
            " 'KANPUR NAGAR' 'KASGANJ' 'KAUSHAMBI' 'KHERI' 'KUSHI NAGAR' 'LALITPUR'\n",
            " 'LUCKNOW' 'MAHARAJGANJ' 'MAHOBA' 'MAINPURI' 'MATHURA' 'MAU' 'MEERUT'\n",
            " 'MIRZAPUR' 'MORADABAD' 'MUZAFFARNAGAR' 'PILIBHIT' 'RAE BARELI' 'RAMPUR'\n",
            " 'SAHARANPUR' 'SAMBHAL' 'SANT KABEER NAGAR' 'SANT RAVIDAS NAGAR'\n",
            " 'SHAHJAHANPUR' 'SHAMLI' 'SHRAVASTI' 'SIDDHARTH NAGAR' 'SITAPUR'\n",
            " 'SONBHADRA' 'SULTANPUR' 'UNNAO' 'VARANASI' 'ALMORA' 'BAGESHWAR' 'CHAMOLI'\n",
            " 'CHAMPAWAT' 'DEHRADUN' 'HARIDWAR' 'NAINITAL' 'PAURI GARHWAL'\n",
            " 'PITHORAGARH' 'RUDRA PRAYAG' 'TEHRI GARHWAL' 'UDAM SINGH NAGAR'\n",
            " 'UTTAR KASHI' '24 PARAGANAS NORTH' '24 PARAGANAS SOUTH' 'BANKURA'\n",
            " 'BARDHAMAN' 'BIRBHUM' 'COOCHBEHAR' 'DARJEELING' 'DINAJPUR DAKSHIN'\n",
            " 'DINAJPUR UTTAR' 'HOOGHLY' 'HOWRAH' 'JALPAIGURI' 'MALDAH'\n",
            " 'MEDINIPUR EAST' 'MEDINIPUR WEST' 'MURSHIDABAD' 'NADIA' 'PURULIA'] \n",
            "\n",
            "Season\n",
            "['Kharif     ' 'Whole Year ' 'Autumn     ' 'Rabi       ' 'Summer     '\n",
            " 'Winter     '] \n",
            "\n",
            "Crop\n",
            "['Arecanut' 'Other Kharif pulses' 'Rice' 'Banana' 'Cashewnut' 'Coconut '\n",
            " 'Dry ginger' 'Sugarcane' 'Sweet potato' 'Tapioca' 'Black pepper'\n",
            " 'Dry chillies' 'other oilseeds' 'Turmeric' 'Maize' 'Moong(Green Gram)'\n",
            " 'Urad' 'Arhar/Tur' 'Groundnut' 'Sunflower' 'Bajra' 'Castor seed'\n",
            " 'Cotton(lint)' 'Horse-gram' 'Jowar' 'Korra' 'Ragi' 'Tobacco' 'Gram'\n",
            " 'Wheat' 'Masoor' 'Sesamum' 'Linseed' 'Safflower' 'Onion'\n",
            " 'other misc. pulses' 'Samai' 'Small millets' 'Coriander' 'Potato'\n",
            " 'Other  Rabi pulses' 'Soyabean' 'Beans & Mutter(Vegetable)' 'Bhindi'\n",
            " 'Brinjal' 'Citrus Fruit' 'Cucumber' 'Grapes' 'Mango' 'Orange'\n",
            " 'other fibres' 'Other Fresh Fruits' 'Other Vegetables' 'Papaya'\n",
            " 'Pome Fruit' 'Tomato' 'Mesta' 'Cowpea(Lobia)' 'Lemon' 'Pome Granet'\n",
            " 'Sapota' 'Cabbage' 'Rapeseed &Mustard' 'Peas  (vegetable)' 'Niger seed'\n",
            " 'Bottle Gourd' 'Varagu' 'Garlic' 'Ginger' 'Oilseeds total' 'Pulses total'\n",
            " 'Jute' 'Peas & beans (Pulses)' 'Blackgram' 'Paddy' 'Pineapple' 'Barley'\n",
            " 'Sannhamp' 'Khesari' 'Guar seed' 'Moth' 'Other Cereals & Millets'\n",
            " 'Cond-spcs other' 'Turnip' 'Carrot' 'Redish' 'Arcanut (Processed)'\n",
            " 'Atcanut (Raw)' 'Cashewnut Processed' 'Cashewnut Raw' 'Cardamom' 'Rubber'\n",
            " 'Bitter Gourd' 'Drum Stick' 'Jack Fruit' 'Snak Guard' 'Tea' 'Coffee'\n",
            " 'Cauliflower' 'Other Citrus Fruit' 'Water Melon' 'Total foodgrain'\n",
            " 'Kapas' 'Colocosia' 'Lentil' 'Bean' 'Jobster' 'Perilla' 'Rajmash Kholar'\n",
            " 'Ricebean (nagadal)' 'Ash Gourd' 'Beet Root' 'Lab-Lab' 'Ribed Guard'\n",
            " 'Yam' 'Pump Kin' 'Apple' 'Peach' 'Pear' 'Plums' 'Litchi' 'Ber'\n",
            " 'Other Dry Fruit' 'Jute & mesta'] \n",
            "\n"
          ]
        }
      ]
    },
    {
      "cell_type": "markdown",
      "source": [
        "We can see there is some inconsistency in Season column, it has a lot of spaces included alog with the data, let's trim it."
      ],
      "metadata": {
        "id": "UKBKvMkh9A-L"
      }
    },
    {
      "cell_type": "code",
      "source": [
        "df['Season'] = df['Season'].apply(lambda x : x.strip())"
      ],
      "metadata": {
        "id": "1QSfngIG8APc"
      },
      "execution_count": 10,
      "outputs": []
    },
    {
      "cell_type": "code",
      "source": [
        "df['Season'].unique()"
      ],
      "metadata": {
        "colab": {
          "base_uri": "https://localhost:8080/"
        },
        "id": "KERXg3v5-vZQ",
        "outputId": "87689650-9645-44d5-eb09-63a0a42e6092"
      },
      "execution_count": 11,
      "outputs": [
        {
          "output_type": "execute_result",
          "data": {
            "text/plain": [
              "array(['Kharif', 'Whole Year', 'Autumn', 'Rabi', 'Summer', 'Winter'],\n",
              "      dtype=object)"
            ]
          },
          "metadata": {},
          "execution_count": 11
        }
      ]
    },
    {
      "cell_type": "markdown",
      "source": [
        "Now it's better this way."
      ],
      "metadata": {
        "id": "cF0SL6Cn_QMV"
      }
    },
    {
      "cell_type": "code",
      "source": [
        "#\n",
        "sns.countplot(x=df[\"Season\"])"
      ],
      "metadata": {
        "colab": {
          "base_uri": "https://localhost:8080/",
          "height": 466
        },
        "id": "eBjZdHJe_N6G",
        "outputId": "a95aece7-71fb-44a1-e719-cbca434cacef"
      },
      "execution_count": 13,
      "outputs": [
        {
          "output_type": "execute_result",
          "data": {
            "text/plain": [
              "<Axes: xlabel='Season', ylabel='count'>"
            ]
          },
          "metadata": {},
          "execution_count": 13
        },
        {
          "output_type": "display_data",
          "data": {
            "text/plain": [
              "<Figure size 640x480 with 1 Axes>"
            ],
            "image/png": "[encoded data removed]"
          },
          "metadata": {}
        }
      ]
    },
    {
      "cell_type": "code",
      "source": [],
      "metadata": {
        "id": "9ww1jyXLWr4j"
      },
      "execution_count": null,
      "outputs": []
    }
  ]
}